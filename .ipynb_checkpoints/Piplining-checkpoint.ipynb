{
 "cells": [
  {
   "cell_type": "code",
   "execution_count": 1,
   "id": "e67abb8f",
   "metadata": {},
   "outputs": [],
   "source": [
    "import numpy as np # linear algebra\n",
    "import pandas as pd # data processing, CSV file I/O (e.g. pd.read_csv)\n",
    "import seaborn as sns # for visualization\n",
    "import plotly.express as px # for visualization\n",
    "import matplotlib.pyplot as plt # for visualization\n",
    "%matplotlib inline\n",
    "\n",
    "# To display all the columns of dataframe\n",
    "pd.set_option('display.max_columns', 500)\n",
    "import warnings\n",
    "warnings.filterwarnings(\"ignore\")"
   ]
  },
  {
   "cell_type": "code",
   "execution_count": 2,
   "id": "96a1a992",
   "metadata": {},
   "outputs": [],
   "source": [
    "df=pd.read_csv('Bondora_updated.csv')"
   ]
  },
  {
   "cell_type": "code",
   "execution_count": 3,
   "id": "350e729a",
   "metadata": {},
   "outputs": [
    {
     "data": {
      "text/html": [
       "<div>\n",
       "<style scoped>\n",
       "    .dataframe tbody tr th:only-of-type {\n",
       "        vertical-align: middle;\n",
       "    }\n",
       "\n",
       "    .dataframe tbody tr th {\n",
       "        vertical-align: top;\n",
       "    }\n",
       "\n",
       "    .dataframe thead th {\n",
       "        text-align: right;\n",
       "    }\n",
       "</style>\n",
       "<table border=\"1\" class=\"dataframe\">\n",
       "  <thead>\n",
       "    <tr style=\"text-align: right;\">\n",
       "      <th></th>\n",
       "      <th>BidsPortfolioManager</th>\n",
       "      <th>BidsApi</th>\n",
       "      <th>BidsManual</th>\n",
       "      <th>NewCreditCustomer</th>\n",
       "      <th>Age</th>\n",
       "      <th>AppliedAmount</th>\n",
       "      <th>Interest</th>\n",
       "      <th>MonthlyPayment</th>\n",
       "      <th>IncomeTotal</th>\n",
       "      <th>Country</th>\n",
       "      <th>CreditScoreEsMicroL</th>\n",
       "      <th>PrincipalPaymentsMade</th>\n",
       "      <th>RefinanceLiabilities</th>\n",
       "      <th>InterestAndPenaltyPaymentsMade</th>\n",
       "      <th>PreviousEarlyRepaymentsCountBeforeLoan</th>\n",
       "      <th>Gender</th>\n",
       "      <th>Restructured</th>\n",
       "      <th>Education</th>\n",
       "      <th>MaritalStatus</th>\n",
       "      <th>EmploymentStatus</th>\n",
       "      <th>EmploymentDurationCurrentEmployer</th>\n",
       "      <th>OccupationArea</th>\n",
       "      <th>HomeOwnershipType</th>\n",
       "      <th>FreeCash</th>\n",
       "      <th>DebtToIncome</th>\n",
       "      <th>ExistingLiabilities</th>\n",
       "      <th>VerificationType</th>\n",
       "      <th>Rating</th>\n",
       "      <th>LanguageCode</th>\n",
       "      <th>UseOfLoan</th>\n",
       "      <th>LoanStatus</th>\n",
       "      <th>EMI</th>\n",
       "      <th>ELA</th>\n",
       "      <th>ROI</th>\n",
       "    </tr>\n",
       "  </thead>\n",
       "  <tbody>\n",
       "    <tr>\n",
       "      <th>0</th>\n",
       "      <td>0.0</td>\n",
       "      <td>0.0</td>\n",
       "      <td>115.0410</td>\n",
       "      <td>1</td>\n",
       "      <td>61</td>\n",
       "      <td>319.5582</td>\n",
       "      <td>30.0</td>\n",
       "      <td>130.393314</td>\n",
       "      <td>3665.0</td>\n",
       "      <td>0</td>\n",
       "      <td>0</td>\n",
       "      <td>115.0408</td>\n",
       "      <td>0</td>\n",
       "      <td>20.4222</td>\n",
       "      <td>0</td>\n",
       "      <td>0</td>\n",
       "      <td>0</td>\n",
       "      <td>5</td>\n",
       "      <td>2</td>\n",
       "      <td>1</td>\n",
       "      <td>6</td>\n",
       "      <td>17</td>\n",
       "      <td>6</td>\n",
       "      <td>0.0</td>\n",
       "      <td>0.0</td>\n",
       "      <td>0</td>\n",
       "      <td>2</td>\n",
       "      <td>6</td>\n",
       "      <td>1</td>\n",
       "      <td>10</td>\n",
       "      <td>1</td>\n",
       "      <td>3451.2240</td>\n",
       "      <td>856.65</td>\n",
       "      <td>23.076923</td>\n",
       "    </tr>\n",
       "    <tr>\n",
       "      <th>1</th>\n",
       "      <td>0.0</td>\n",
       "      <td>0.0</td>\n",
       "      <td>140.6057</td>\n",
       "      <td>0</td>\n",
       "      <td>48</td>\n",
       "      <td>191.7349</td>\n",
       "      <td>25.0</td>\n",
       "      <td>130.393314</td>\n",
       "      <td>3665.0</td>\n",
       "      <td>0</td>\n",
       "      <td>0</td>\n",
       "      <td>140.6057</td>\n",
       "      <td>0</td>\n",
       "      <td>2.0227</td>\n",
       "      <td>0</td>\n",
       "      <td>0</td>\n",
       "      <td>0</td>\n",
       "      <td>1</td>\n",
       "      <td>1</td>\n",
       "      <td>1</td>\n",
       "      <td>0</td>\n",
       "      <td>5</td>\n",
       "      <td>6</td>\n",
       "      <td>0.0</td>\n",
       "      <td>0.0</td>\n",
       "      <td>0</td>\n",
       "      <td>2</td>\n",
       "      <td>6</td>\n",
       "      <td>1</td>\n",
       "      <td>10</td>\n",
       "      <td>1</td>\n",
       "      <td>3655.7482</td>\n",
       "      <td>240.00</td>\n",
       "      <td>20.000000</td>\n",
       "    </tr>\n",
       "    <tr>\n",
       "      <th>2</th>\n",
       "      <td>0.0</td>\n",
       "      <td>0.0</td>\n",
       "      <td>319.5580</td>\n",
       "      <td>1</td>\n",
       "      <td>58</td>\n",
       "      <td>319.5582</td>\n",
       "      <td>25.0</td>\n",
       "      <td>130.393314</td>\n",
       "      <td>3665.0</td>\n",
       "      <td>0</td>\n",
       "      <td>0</td>\n",
       "      <td>203.1909</td>\n",
       "      <td>0</td>\n",
       "      <td>59.7626</td>\n",
       "      <td>0</td>\n",
       "      <td>0</td>\n",
       "      <td>1</td>\n",
       "      <td>4</td>\n",
       "      <td>2</td>\n",
       "      <td>1</td>\n",
       "      <td>7</td>\n",
       "      <td>9</td>\n",
       "      <td>6</td>\n",
       "      <td>0.0</td>\n",
       "      <td>0.0</td>\n",
       "      <td>0</td>\n",
       "      <td>2</td>\n",
       "      <td>6</td>\n",
       "      <td>1</td>\n",
       "      <td>7</td>\n",
       "      <td>0</td>\n",
       "      <td>7988.5225</td>\n",
       "      <td>856.65</td>\n",
       "      <td>20.000000</td>\n",
       "    </tr>\n",
       "    <tr>\n",
       "      <th>3</th>\n",
       "      <td>0.0</td>\n",
       "      <td>0.0</td>\n",
       "      <td>57.5205</td>\n",
       "      <td>1</td>\n",
       "      <td>23</td>\n",
       "      <td>127.8233</td>\n",
       "      <td>45.0</td>\n",
       "      <td>130.393314</td>\n",
       "      <td>3665.0</td>\n",
       "      <td>0</td>\n",
       "      <td>0</td>\n",
       "      <td>57.5205</td>\n",
       "      <td>0</td>\n",
       "      <td>18.7323</td>\n",
       "      <td>0</td>\n",
       "      <td>0</td>\n",
       "      <td>0</td>\n",
       "      <td>0</td>\n",
       "      <td>4</td>\n",
       "      <td>2</td>\n",
       "      <td>5</td>\n",
       "      <td>13</td>\n",
       "      <td>6</td>\n",
       "      <td>0.0</td>\n",
       "      <td>0.0</td>\n",
       "      <td>0</td>\n",
       "      <td>2</td>\n",
       "      <td>6</td>\n",
       "      <td>1</td>\n",
       "      <td>8</td>\n",
       "      <td>1</td>\n",
       "      <td>2588.4225</td>\n",
       "      <td>856.65</td>\n",
       "      <td>31.034483</td>\n",
       "    </tr>\n",
       "    <tr>\n",
       "      <th>4</th>\n",
       "      <td>0.0</td>\n",
       "      <td>0.0</td>\n",
       "      <td>319.5582</td>\n",
       "      <td>1</td>\n",
       "      <td>25</td>\n",
       "      <td>319.5582</td>\n",
       "      <td>30.0</td>\n",
       "      <td>130.393314</td>\n",
       "      <td>3665.0</td>\n",
       "      <td>0</td>\n",
       "      <td>0</td>\n",
       "      <td>319.5436</td>\n",
       "      <td>0</td>\n",
       "      <td>220.4200</td>\n",
       "      <td>0</td>\n",
       "      <td>0</td>\n",
       "      <td>0</td>\n",
       "      <td>4</td>\n",
       "      <td>0</td>\n",
       "      <td>1</td>\n",
       "      <td>5</td>\n",
       "      <td>17</td>\n",
       "      <td>6</td>\n",
       "      <td>0.0</td>\n",
       "      <td>0.0</td>\n",
       "      <td>0</td>\n",
       "      <td>2</td>\n",
       "      <td>6</td>\n",
       "      <td>1</td>\n",
       "      <td>15</td>\n",
       "      <td>0</td>\n",
       "      <td>9586.3080</td>\n",
       "      <td>856.65</td>\n",
       "      <td>23.076923</td>\n",
       "    </tr>\n",
       "  </tbody>\n",
       "</table>\n",
       "</div>"
      ],
      "text/plain": [
       "   BidsPortfolioManager  BidsApi  BidsManual  NewCreditCustomer  Age  \\\n",
       "0                   0.0      0.0    115.0410                  1   61   \n",
       "1                   0.0      0.0    140.6057                  0   48   \n",
       "2                   0.0      0.0    319.5580                  1   58   \n",
       "3                   0.0      0.0     57.5205                  1   23   \n",
       "4                   0.0      0.0    319.5582                  1   25   \n",
       "\n",
       "   AppliedAmount  Interest  MonthlyPayment  IncomeTotal  Country  \\\n",
       "0       319.5582      30.0      130.393314       3665.0        0   \n",
       "1       191.7349      25.0      130.393314       3665.0        0   \n",
       "2       319.5582      25.0      130.393314       3665.0        0   \n",
       "3       127.8233      45.0      130.393314       3665.0        0   \n",
       "4       319.5582      30.0      130.393314       3665.0        0   \n",
       "\n",
       "   CreditScoreEsMicroL  PrincipalPaymentsMade  RefinanceLiabilities  \\\n",
       "0                    0               115.0408                     0   \n",
       "1                    0               140.6057                     0   \n",
       "2                    0               203.1909                     0   \n",
       "3                    0                57.5205                     0   \n",
       "4                    0               319.5436                     0   \n",
       "\n",
       "   InterestAndPenaltyPaymentsMade  PreviousEarlyRepaymentsCountBeforeLoan  \\\n",
       "0                         20.4222                                       0   \n",
       "1                          2.0227                                       0   \n",
       "2                         59.7626                                       0   \n",
       "3                         18.7323                                       0   \n",
       "4                        220.4200                                       0   \n",
       "\n",
       "   Gender  Restructured  Education  MaritalStatus  EmploymentStatus  \\\n",
       "0       0             0          5              2                 1   \n",
       "1       0             0          1              1                 1   \n",
       "2       0             1          4              2                 1   \n",
       "3       0             0          0              4                 2   \n",
       "4       0             0          4              0                 1   \n",
       "\n",
       "   EmploymentDurationCurrentEmployer  OccupationArea  HomeOwnershipType  \\\n",
       "0                                  6              17                  6   \n",
       "1                                  0               5                  6   \n",
       "2                                  7               9                  6   \n",
       "3                                  5              13                  6   \n",
       "4                                  5              17                  6   \n",
       "\n",
       "   FreeCash  DebtToIncome  ExistingLiabilities  VerificationType  Rating  \\\n",
       "0       0.0           0.0                    0                 2       6   \n",
       "1       0.0           0.0                    0                 2       6   \n",
       "2       0.0           0.0                    0                 2       6   \n",
       "3       0.0           0.0                    0                 2       6   \n",
       "4       0.0           0.0                    0                 2       6   \n",
       "\n",
       "   LanguageCode  UseOfLoan  LoanStatus        EMI     ELA        ROI  \n",
       "0             1         10           1  3451.2240  856.65  23.076923  \n",
       "1             1         10           1  3655.7482  240.00  20.000000  \n",
       "2             1          7           0  7988.5225  856.65  20.000000  \n",
       "3             1          8           1  2588.4225  856.65  31.034483  \n",
       "4             1         15           0  9586.3080  856.65  23.076923  "
      ]
     },
     "execution_count": 3,
     "metadata": {},
     "output_type": "execute_result"
    }
   ],
   "source": [
    "df.head()"
   ]
  },
  {
   "cell_type": "code",
   "execution_count": 4,
   "id": "ce91f571",
   "metadata": {},
   "outputs": [
    {
     "data": {
      "text/plain": [
       "(77394, 34)"
      ]
     },
     "execution_count": 4,
     "metadata": {},
     "output_type": "execute_result"
    }
   ],
   "source": [
    "df.shape"
   ]
  },
  {
   "cell_type": "code",
   "execution_count": 5,
   "id": "5c6676a6",
   "metadata": {},
   "outputs": [
    {
     "name": "stdout",
     "output_type": "stream",
     "text": [
      "<class 'pandas.core.frame.DataFrame'>\n",
      "RangeIndex: 77394 entries, 0 to 77393\n",
      "Data columns (total 34 columns):\n",
      " #   Column                                  Non-Null Count  Dtype  \n",
      "---  ------                                  --------------  -----  \n",
      " 0   BidsPortfolioManager                    77394 non-null  float64\n",
      " 1   BidsApi                                 77394 non-null  float64\n",
      " 2   BidsManual                              77394 non-null  float64\n",
      " 3   NewCreditCustomer                       77394 non-null  int64  \n",
      " 4   Age                                     77394 non-null  int64  \n",
      " 5   AppliedAmount                           77394 non-null  float64\n",
      " 6   Interest                                77394 non-null  float64\n",
      " 7   MonthlyPayment                          77394 non-null  float64\n",
      " 8   IncomeTotal                             77394 non-null  float64\n",
      " 9   Country                                 77394 non-null  int64  \n",
      " 10  CreditScoreEsMicroL                     77394 non-null  int64  \n",
      " 11  PrincipalPaymentsMade                   77394 non-null  float64\n",
      " 12  RefinanceLiabilities                    77394 non-null  int64  \n",
      " 13  InterestAndPenaltyPaymentsMade          77394 non-null  float64\n",
      " 14  PreviousEarlyRepaymentsCountBeforeLoan  77394 non-null  int64  \n",
      " 15  Gender                                  77394 non-null  int64  \n",
      " 16  Restructured                            77394 non-null  int64  \n",
      " 17  Education                               77394 non-null  int64  \n",
      " 18  MaritalStatus                           77394 non-null  int64  \n",
      " 19  EmploymentStatus                        77394 non-null  int64  \n",
      " 20  EmploymentDurationCurrentEmployer       77394 non-null  int64  \n",
      " 21  OccupationArea                          77394 non-null  int64  \n",
      " 22  HomeOwnershipType                       77394 non-null  int64  \n",
      " 23  FreeCash                                77394 non-null  float64\n",
      " 24  DebtToIncome                            77394 non-null  float64\n",
      " 25  ExistingLiabilities                     77394 non-null  int64  \n",
      " 26  VerificationType                        77394 non-null  int64  \n",
      " 27  Rating                                  77394 non-null  int64  \n",
      " 28  LanguageCode                            77394 non-null  int64  \n",
      " 29  UseOfLoan                               77394 non-null  int64  \n",
      " 30  LoanStatus                              77394 non-null  int64  \n",
      " 31  EMI                                     77394 non-null  float64\n",
      " 32  ELA                                     77394 non-null  float64\n",
      " 33  ROI                                     77394 non-null  float64\n",
      "dtypes: float64(14), int64(20)\n",
      "memory usage: 20.1 MB\n"
     ]
    }
   ],
   "source": [
    "df.info()"
   ]
  },
  {
   "cell_type": "code",
   "execution_count": 6,
   "id": "96f35574",
   "metadata": {},
   "outputs": [
    {
     "name": "stdout",
     "output_type": "stream",
     "text": [
      "['BidsPortfolioManager', 'BidsApi', 'BidsManual', 'NewCreditCustomer', 'Age', 'AppliedAmount', 'Interest', 'MonthlyPayment', 'IncomeTotal', 'Country', 'CreditScoreEsMicroL', 'PrincipalPaymentsMade', 'RefinanceLiabilities', 'InterestAndPenaltyPaymentsMade', 'PreviousEarlyRepaymentsCountBeforeLoan', 'Gender', 'Restructured', 'Education', 'MaritalStatus', 'EmploymentStatus', 'EmploymentDurationCurrentEmployer', 'OccupationArea', 'HomeOwnershipType', 'FreeCash', 'DebtToIncome', 'ExistingLiabilities', 'VerificationType', 'Rating', 'LanguageCode', 'UseOfLoan', 'LoanStatus', 'EMI', 'ELA', 'ROI']\n"
     ]
    }
   ],
   "source": [
    "col_list_numerical = df.select_dtypes(include=['int64','float64']).columns.to_list()\n",
    "\n",
    "print(col_list_numerical)"
   ]
  },
  {
   "cell_type": "code",
   "execution_count": 7,
   "id": "bf3fa458",
   "metadata": {
    "scrolled": false
   },
   "outputs": [
    {
     "name": "stdout",
     "output_type": "stream",
     "text": [
      "BidsPortfolioManager\n",
      "[   0. 3110. 1200. ... 2354. 3328. 2668.]\n",
      "BidsApi\n",
      "[ 0.  10.   5.  12.5  7.   1.   6.   2.   4.   3.  11.   9.   8.  12. ]\n",
      "BidsManual\n",
      "[ 115.041   140.6057  319.558  ... 1693.     1571.     1792.    ]\n",
      "NewCreditCustomer\n",
      "[1 0]\n",
      "Age\n",
      "[61 48 58 23 25 22 47 38 54 35 31 20 30 57 32 42 27 51 33 34 40 24 26 49\n",
      " 29 21 43 39 19 55 18 37 46 41 28 50 36 45 75 59 44 62 52 63 53 60 66 56\n",
      " 65 67 64  3 69 68 70 71 72 74]\n",
      "AppliedAmount\n",
      "[ 319.5582  191.7349  127.8233  300.3847  178.9526  255.6466   63.9116\n",
      "  274.8201  223.6908  281.2113  230.0819  447.3815  958.6747  766.9398\n",
      "   31.9558  159.7791  639.1165  409.0346  798.8956   95.8675  153.388\n",
      "   76.694   146.9968  166.1703  249.2554  287.6024  415.4257  383.4699\n",
      "   38.347    57.5205  115.041   102.2586  575.2048  332.3406   89.4763\n",
      "  306.7759  242.8643  268.4289  204.5173  236.4731  185.3438  134.2145\n",
      "  210.9084  140.6056  511.2932  121.4321   70.3028  172.5615  108.6498\n",
      " 5500.     1200.     1000.     4100.     1800.     2000.      700.\n",
      " 3000.      600.       51.1293  500.     1500.     1400.     3500.\n",
      " 7900.      800.     1100.     7500.     8190.     2500.     2200.\n",
      " 5000.     6400.     4500.     3800.     1300.     6000.     3700.\n",
      " 4000.     2600.     1700.     6100.     6200.     7000.     4900.\n",
      " 3300.     1600.      479.3374 3200.      293.9936  900.     2700.\n",
      " 5100.      217.2996 2300.      543.249   364.2964 8000.     5200.\n",
      "   83.0851 1900.     3100.     2403.078   830.8514  262.0378  325.9494\n",
      " 3600.     2800.     1278.233   351.5141 2100.      607.1607  338.7317\n",
      "  492.1197   44.7382 4601.6387 4600.     3900.     4200.     7300.\n",
      " 6900.     6500.     6300.     2900.     3400.     4300.     5400.\n",
      " 4800.     2400.     6600.      357.9052 5800.      428.208  2556.4659\n",
      " 6391.1649  862.8073  421.8169 3834.6989 4537.727   313.1671 1310.1888\n",
      " 1917.3495 2045.1728 1182.3655 1597.7912 1035.3687 1725.6145  850.0249\n",
      " 1022.5864 4400.     7800.     5300.     7700.     5600.     4700.\n",
      " 5900.     5700.     8100.     6700.     6800.     7600.     7200.\n",
      " 7100.      635.     3190.     2230.     1595.     1060.     3720.\n",
      " 1275.      530.     5845.     2335.     2655.     3825.     2125.\n",
      " 4785.      955.     5315.     4250.     1805.     4040.     2760.\n",
      " 1910.     6375.     1485.     7970.      740.      850.     7440.\n",
      " 6910.     7865.     7230.     4145.     7760.     6485.     1380.\n",
      " 2975.     4355.     2550.     2020.     2445.     4465.     1165.\n",
      " 5635.     6590.     3080.     3505.     3930.     5950.     7015.\n",
      " 4995.     7545.     4570.     4675.     5210.      671.0723  402.6434\n",
      "  460.1639  805.2868 1150.4097 1406.0563  632.7253 2236.9077 6270.\n",
      " 6060.     6695.     7655.     5525.     4890.     7120.     5420.\n",
      " 2870.     8080.     3615.     8185.     6805.     7335.     3185.\n",
      " 1590.     4780.     5205.      734.984   524.0755  703.0281  568.8137\n",
      " 1533.8796 2013.2169 1469.9679  220.      760.      200.      400.\n",
      "  350.      640.     1550.      300.      250.      100.      420.\n",
      "  150.      580.      930.      290.      190.      320.      260.\n",
      "  750.     1050.      450.     1250.      130.      650.     1040.\n",
      "  210.      880.      770.      830.     1350.      480.     3295.\n",
      " 6165.     5740.     1214.3213 1450.      550.      170.      310.\n",
      " 1950.      610.      430.      950.      160.     1150.      870.\n",
      " 1340.     1850.     1770.     2950.      120.     1180.      180.\n",
      "  270.      720.      820.     2250.     2650.      630.     1130.\n",
      " 1030.      840.      680.     1750.     4080.     5340.     3450.\n",
      "  625.     2110.      240.      470.      920.     1070.     3760.\n",
      " 1660.     2070.     7400.     3850.     4050.     2350.     2850.\n",
      " 1330.     4350.     4650.     7740.     2450.     4240.     7750.\n",
      "  755.     4850.     4195.     2750.     4735.     3380.     1650.\n",
      " 7930.     3490.     5350.      990.     3250.     5140.     6250.\n",
      " 2150.     1980.     4380.     1760.     3950.     2670.     1095.\n",
      " 1790.     3650.     3260.     3290.     1290.     2080.     4150.\n",
      " 2778.     2280.     1680.     2425.     1870.     2380.     8150.\n",
      "  515.     2075.     6750.     2385.     6850.      620.     3110.\n",
      " 1865.     2126.     4253.     3113.      531.     2387.      518.\n",
      " 1594.     2551.     2594.     3721.     1169.     2658.      637.\n",
      " 1037.     3189.     1063.     1913.     3632.     1556.     1141.\n",
      " 5103.     3402.     1807.     2764.     4047.      622.     1701.\n",
      " 2490.     6150.     5741.     5050.     6911.     3083.     1971.\n",
      " 2232.     3217.     4750.     7450.      744.     3934.      726.\n",
      " 4045.     4146.     6804.     4784.     2283.     1382.      725.\n",
      " 2977.     2698.     1349.     3827.     4950.     1488.     7868.\n",
      " 3425.     1453.     7850.     2802.     3009.     5316.     6379.\n",
      "  956.     7442.     5150.     7123.     6350.     1868.     3943.\n",
      " 5954.      934.     3840.     3528.     3296.     5850.     5750.\n",
      " 3321.     2690.     2640.     1640.     1740.     2050.     7050.\n",
      " 2179.     6450.     1764.     5250.     8187.     7974.     5650.\n",
      " 2906.     2339.     6050.     7150.     4891.     5209.     6950.\n",
      " 5528.     3736.     3508.     1039.     7017.     7550.     7336.\n",
      " 7650.     4678.     7950.     4997.     7761.     4359.     6698.\n",
      " 5422.     1245.     7549.     4572.     5847.     6592.     6273.\n",
      " 6166.    ]\n",
      "Interest\n",
      "[30.   25.   45.   ... 58.17 58.01 56.75]\n",
      "MonthlyPayment\n",
      "[130.39331426   0.         246.42       ...  73.85       126.31\n",
      "  85.33      ]\n",
      "IncomeTotal\n",
      "[3665.  900. 1400. ... 3019. 2021. 2112.]\n",
      "Country\n",
      "[0 2 1 3]\n",
      "CreditScoreEsMicroL\n",
      "[ 0  4  6  1 10  3  7  5  9  8  2]\n",
      "PrincipalPaymentsMade\n",
      "[ 115.0408  140.6057  203.1909 ... 1869.76   2257.54   1473.91  ]\n",
      "RefinanceLiabilities\n",
      "[0]\n",
      "InterestAndPenaltyPaymentsMade\n",
      "[ 20.4222   2.0227  59.7626 ... 199.33   561.53   683.21  ]\n",
      "PreviousEarlyRepaymentsCountBeforeLoan\n",
      "[0]\n",
      "Gender\n",
      "[0 1 2]\n",
      "Restructured\n",
      "[0 1]\n",
      "Education\n",
      "[5 1 4 0 3 2]\n",
      "MaritalStatus\n",
      "[2 1 4 0 5 3]\n",
      "EmploymentStatus\n",
      "[1 2 3 5 0 4]\n",
      "EmploymentDurationCurrentEmployer\n",
      "[6 0 7 5 4 1 8 3 2]\n",
      "OccupationArea\n",
      "[17  5  9 13 10 15 18  4  7  8 19  6 14  1 12  2  3 16  0 11]\n",
      "HomeOwnershipType\n",
      "[ 6  1 10  4  0  8  5  2  3  9  7]\n",
      "FreeCash\n",
      "[  0.    61.58  85.1  ... 664.78 520.67  74.86]\n",
      "DebtToIncome\n",
      "[ 0.    51.975 24.7   ... 42.42  28.97   1.77 ]\n",
      "ExistingLiabilities\n",
      "[ 0  6  4  1  8  3  2  5  7  9 10 11]\n",
      "VerificationType\n",
      "[2 0 1 3 4]\n",
      "Rating\n",
      "[6 3 7 5 4 0 2 1]\n",
      "LanguageCode\n",
      "[1 5 0 2 7 4 6 3]\n",
      "UseOfLoan\n",
      "[10  7  8 15  6  4 14  5 13 11 16 12  0  2  1  3  9]\n",
      "LoanStatus\n",
      "[1 0]\n",
      "EMI\n",
      "[  3451.224    3655.7482   7988.5225 ...  24962.     108471.\n",
      "  91500.    ]\n",
      "ELA\n",
      "[856.65  240.    665.    ... 146.262 -57.615  -9.309]\n",
      "ROI\n",
      "[23.07692308 20.         31.03448276 ... 36.77688563 36.71286627\n",
      " 36.20414673]\n"
     ]
    }
   ],
   "source": [
    "# write your code here\n",
    "for col in col_list_numerical:\n",
    "    print(col)\n",
    "    print(df[col].unique())"
   ]
  },
  {
   "cell_type": "code",
   "execution_count": 8,
   "id": "3c7a4c0a",
   "metadata": {},
   "outputs": [
    {
     "name": "stdout",
     "output_type": "stream",
     "text": [
      "[0 1 2 3 4 5 6 7]\n"
     ]
    }
   ],
   "source": [
    "from sklearn import preprocessing\n",
    "le = preprocessing.LabelEncoder()\n",
    "le.fit(df['LanguageCode'])\n",
    "print(le.classes_)"
   ]
  },
  {
   "cell_type": "markdown",
   "id": "b166f8b5",
   "metadata": {},
   "source": [
    "## Making target Variable"
   ]
  },
  {
   "cell_type": "code",
   "execution_count": 9,
   "id": "9ebfd1f3",
   "metadata": {},
   "outputs": [],
   "source": [
    "Independent_features = df.drop(['LoanStatus','EMI', 'ELA', 'ROI'], axis=1)\n",
    "Target_feaure1 = df[['LoanStatus']]\n",
    "Target_feaure2 = df[['EMI', 'ELA', 'ROI']]"
   ]
  },
  {
   "cell_type": "markdown",
   "id": "bfb6c938",
   "metadata": {},
   "source": [
    "###  Feature Scaling\n",
    "\n",
    "There are two major types of feature scaling :\n",
    "-  Standardization.\n",
    "- Normalization.\n",
    "\n"
   ]
  },
  {
   "cell_type": "markdown",
   "id": "1ac0904a",
   "metadata": {},
   "source": [
    "We can use StandardScalar to scale our data:\n",
    "- StandardScaler is used to resize the distribution of values ​​so that the mean of the observed values ​​is 0 and the standard deviation is 1.\n",
    "- The values will lie be between -1 and 1."
   ]
  },
  {
   "cell_type": "code",
   "execution_count": 10,
   "id": "c7a57a59",
   "metadata": {},
   "outputs": [],
   "source": [
    "### For regression feature scaling"
   ]
  },
  {
   "cell_type": "code",
   "execution_count": 11,
   "id": "e8b10790",
   "metadata": {},
   "outputs": [],
   "source": [
    "from sklearn.preprocessing import StandardScaler \n",
    "from sklearn.preprocessing import MinMaxScaler"
   ]
  },
  {
   "cell_type": "code",
   "execution_count": 12,
   "id": "a78c99ba",
   "metadata": {},
   "outputs": [],
   "source": [
    "Scalar = StandardScaler()"
   ]
  },
  {
   "cell_type": "code",
   "execution_count": 13,
   "id": "978b83a4",
   "metadata": {},
   "outputs": [],
   "source": [
    "X = Scalar.fit_transform(Independent_features)"
   ]
  },
  {
   "cell_type": "code",
   "execution_count": 14,
   "id": "ec441560",
   "metadata": {},
   "outputs": [
    {
     "data": {
      "text/plain": [
       "(77394, 30)"
      ]
     },
     "execution_count": 14,
     "metadata": {},
     "output_type": "execute_result"
    }
   ],
   "source": [
    "X.shape"
   ]
  },
  {
   "cell_type": "code",
   "execution_count": 15,
   "id": "b6a6c31b",
   "metadata": {},
   "outputs": [],
   "source": [
    "y = Scalar.fit_transform(Target_feaure2)"
   ]
  },
  {
   "cell_type": "code",
   "execution_count": 16,
   "id": "1ed65bf0",
   "metadata": {},
   "outputs": [
    {
     "data": {
      "text/html": [
       "<div>\n",
       "<style scoped>\n",
       "    .dataframe tbody tr th:only-of-type {\n",
       "        vertical-align: middle;\n",
       "    }\n",
       "\n",
       "    .dataframe tbody tr th {\n",
       "        vertical-align: top;\n",
       "    }\n",
       "\n",
       "    .dataframe thead th {\n",
       "        text-align: right;\n",
       "    }\n",
       "</style>\n",
       "<table border=\"1\" class=\"dataframe\">\n",
       "  <thead>\n",
       "    <tr style=\"text-align: right;\">\n",
       "      <th></th>\n",
       "      <th>LoanStatus</th>\n",
       "    </tr>\n",
       "  </thead>\n",
       "  <tbody>\n",
       "    <tr>\n",
       "      <th>0</th>\n",
       "      <td>1</td>\n",
       "    </tr>\n",
       "    <tr>\n",
       "      <th>1</th>\n",
       "      <td>1</td>\n",
       "    </tr>\n",
       "    <tr>\n",
       "      <th>2</th>\n",
       "      <td>0</td>\n",
       "    </tr>\n",
       "    <tr>\n",
       "      <th>3</th>\n",
       "      <td>1</td>\n",
       "    </tr>\n",
       "    <tr>\n",
       "      <th>4</th>\n",
       "      <td>0</td>\n",
       "    </tr>\n",
       "    <tr>\n",
       "      <th>...</th>\n",
       "      <td>...</td>\n",
       "    </tr>\n",
       "    <tr>\n",
       "      <th>77389</th>\n",
       "      <td>0</td>\n",
       "    </tr>\n",
       "    <tr>\n",
       "      <th>77390</th>\n",
       "      <td>1</td>\n",
       "    </tr>\n",
       "    <tr>\n",
       "      <th>77391</th>\n",
       "      <td>0</td>\n",
       "    </tr>\n",
       "    <tr>\n",
       "      <th>77392</th>\n",
       "      <td>0</td>\n",
       "    </tr>\n",
       "    <tr>\n",
       "      <th>77393</th>\n",
       "      <td>0</td>\n",
       "    </tr>\n",
       "  </tbody>\n",
       "</table>\n",
       "<p>77394 rows × 1 columns</p>\n",
       "</div>"
      ],
      "text/plain": [
       "       LoanStatus\n",
       "0               1\n",
       "1               1\n",
       "2               0\n",
       "3               1\n",
       "4               0\n",
       "...           ...\n",
       "77389           0\n",
       "77390           1\n",
       "77391           0\n",
       "77392           0\n",
       "77393           0\n",
       "\n",
       "[77394 rows x 1 columns]"
      ]
     },
     "execution_count": 16,
     "metadata": {},
     "output_type": "execute_result"
    }
   ],
   "source": [
    "Target_feaure1"
   ]
  },
  {
   "cell_type": "markdown",
   "id": "3f3190d7",
   "metadata": {},
   "source": [
    "### Spilting the data"
   ]
  },
  {
   "cell_type": "code",
   "execution_count": 17,
   "id": "78e2ad7c",
   "metadata": {},
   "outputs": [],
   "source": [
    "# Let's use Train Test Split \n",
    "from sklearn.model_selection import train_test_split\n",
    "X_train1, X_test1, y_train1, y_test1 = train_test_split(X, Target_feaure1,test_size = 0.20 ,random_state=0)"
   ]
  },
  {
   "cell_type": "code",
   "execution_count": 18,
   "id": "f2cffb35",
   "metadata": {},
   "outputs": [],
   "source": [
    "# Let's use Train Test Split \n",
    "from sklearn.model_selection import train_test_split\n",
    "X_train2, X_test2, y_train2, y_test2 = train_test_split(X, y,test_size = 0.20 ,random_state=0)"
   ]
  },
  {
   "cell_type": "code",
   "execution_count": 19,
   "id": "10c104b2",
   "metadata": {},
   "outputs": [],
   "source": [
    "# Import Linear Regression model\n",
    "from sklearn.linear_model import LinearRegression"
   ]
  },
  {
   "cell_type": "code",
   "execution_count": 20,
   "id": "3bc1a89e",
   "metadata": {},
   "outputs": [],
   "source": [
    "LR = LinearRegression()"
   ]
  },
  {
   "cell_type": "code",
   "execution_count": 21,
   "id": "c2d02482",
   "metadata": {},
   "outputs": [
    {
     "data": {
      "text/html": [
       "<style>#sk-container-id-1 {color: black;background-color: white;}#sk-container-id-1 pre{padding: 0;}#sk-container-id-1 div.sk-toggleable {background-color: white;}#sk-container-id-1 label.sk-toggleable__label {cursor: pointer;display: block;width: 100%;margin-bottom: 0;padding: 0.3em;box-sizing: border-box;text-align: center;}#sk-container-id-1 label.sk-toggleable__label-arrow:before {content: \"▸\";float: left;margin-right: 0.25em;color: #696969;}#sk-container-id-1 label.sk-toggleable__label-arrow:hover:before {color: black;}#sk-container-id-1 div.sk-estimator:hover label.sk-toggleable__label-arrow:before {color: black;}#sk-container-id-1 div.sk-toggleable__content {max-height: 0;max-width: 0;overflow: hidden;text-align: left;background-color: #f0f8ff;}#sk-container-id-1 div.sk-toggleable__content pre {margin: 0.2em;color: black;border-radius: 0.25em;background-color: #f0f8ff;}#sk-container-id-1 input.sk-toggleable__control:checked~div.sk-toggleable__content {max-height: 200px;max-width: 100%;overflow: auto;}#sk-container-id-1 input.sk-toggleable__control:checked~label.sk-toggleable__label-arrow:before {content: \"▾\";}#sk-container-id-1 div.sk-estimator input.sk-toggleable__control:checked~label.sk-toggleable__label {background-color: #d4ebff;}#sk-container-id-1 div.sk-label input.sk-toggleable__control:checked~label.sk-toggleable__label {background-color: #d4ebff;}#sk-container-id-1 input.sk-hidden--visually {border: 0;clip: rect(1px 1px 1px 1px);clip: rect(1px, 1px, 1px, 1px);height: 1px;margin: -1px;overflow: hidden;padding: 0;position: absolute;width: 1px;}#sk-container-id-1 div.sk-estimator {font-family: monospace;background-color: #f0f8ff;border: 1px dotted black;border-radius: 0.25em;box-sizing: border-box;margin-bottom: 0.5em;}#sk-container-id-1 div.sk-estimator:hover {background-color: #d4ebff;}#sk-container-id-1 div.sk-parallel-item::after {content: \"\";width: 100%;border-bottom: 1px solid gray;flex-grow: 1;}#sk-container-id-1 div.sk-label:hover label.sk-toggleable__label {background-color: #d4ebff;}#sk-container-id-1 div.sk-serial::before {content: \"\";position: absolute;border-left: 1px solid gray;box-sizing: border-box;top: 0;bottom: 0;left: 50%;z-index: 0;}#sk-container-id-1 div.sk-serial {display: flex;flex-direction: column;align-items: center;background-color: white;padding-right: 0.2em;padding-left: 0.2em;position: relative;}#sk-container-id-1 div.sk-item {position: relative;z-index: 1;}#sk-container-id-1 div.sk-parallel {display: flex;align-items: stretch;justify-content: center;background-color: white;position: relative;}#sk-container-id-1 div.sk-item::before, #sk-container-id-1 div.sk-parallel-item::before {content: \"\";position: absolute;border-left: 1px solid gray;box-sizing: border-box;top: 0;bottom: 0;left: 50%;z-index: -1;}#sk-container-id-1 div.sk-parallel-item {display: flex;flex-direction: column;z-index: 1;position: relative;background-color: white;}#sk-container-id-1 div.sk-parallel-item:first-child::after {align-self: flex-end;width: 50%;}#sk-container-id-1 div.sk-parallel-item:last-child::after {align-self: flex-start;width: 50%;}#sk-container-id-1 div.sk-parallel-item:only-child::after {width: 0;}#sk-container-id-1 div.sk-dashed-wrapped {border: 1px dashed gray;margin: 0 0.4em 0.5em 0.4em;box-sizing: border-box;padding-bottom: 0.4em;background-color: white;}#sk-container-id-1 div.sk-label label {font-family: monospace;font-weight: bold;display: inline-block;line-height: 1.2em;}#sk-container-id-1 div.sk-label-container {text-align: center;}#sk-container-id-1 div.sk-container {/* jupyter's `normalize.less` sets `[hidden] { display: none; }` but bootstrap.min.css set `[hidden] { display: none !important; }` so we also need the `!important` here to be able to override the default hidden behavior on the sphinx rendered scikit-learn.org. See: https://github.com/scikit-learn/scikit-learn/issues/21755 */display: inline-block !important;position: relative;}#sk-container-id-1 div.sk-text-repr-fallback {display: none;}</style><div id=\"sk-container-id-1\" class=\"sk-top-container\"><div class=\"sk-text-repr-fallback\"><pre>LinearRegression()</pre><b>In a Jupyter environment, please rerun this cell to show the HTML representation or trust the notebook. <br />On GitHub, the HTML representation is unable to render, please try loading this page with nbviewer.org.</b></div><div class=\"sk-container\" hidden><div class=\"sk-item\"><div class=\"sk-estimator sk-toggleable\"><input class=\"sk-toggleable__control sk-hidden--visually\" id=\"sk-estimator-id-1\" type=\"checkbox\" checked><label for=\"sk-estimator-id-1\" class=\"sk-toggleable__label sk-toggleable__label-arrow\">LinearRegression</label><div class=\"sk-toggleable__content\"><pre>LinearRegression()</pre></div></div></div></div></div>"
      ],
      "text/plain": [
       "LinearRegression()"
      ]
     },
     "execution_count": 21,
     "metadata": {},
     "output_type": "execute_result"
    }
   ],
   "source": [
    "LR.fit(X_train2, y_train2)"
   ]
  },
  {
   "cell_type": "code",
   "execution_count": 22,
   "id": "6992feba",
   "metadata": {},
   "outputs": [],
   "source": [
    "y_pred2 = LR.predict(X_test2)"
   ]
  },
  {
   "cell_type": "code",
   "execution_count": 23,
   "id": "77670c21",
   "metadata": {},
   "outputs": [
    {
     "name": "stdout",
     "output_type": "stream",
     "text": [
      "Model Evaluation:\n",
      "mean_squared_error :  0.12249001665109395\n",
      "mean_squared_percentage_error :  1.0454780720089942\n",
      "R2_score :  0.876622936075929\n"
     ]
    }
   ],
   "source": [
    "from sklearn.metrics import mean_squared_error, r2_score, mean_absolute_percentage_error\n",
    "\n",
    "# model evaluation\n",
    "print('Model Evaluation:')\n",
    "print('mean_squared_error : ', mean_squared_error(y_test2, y_pred2))\n",
    "print('mean_squared_percentage_error : ', mean_absolute_percentage_error(y_test2, y_pred2,multioutput=[0.3, 0.5, 0.7]))\n",
    "print('R2_score : ', r2_score(y_test2, y_pred2))"
   ]
  },
  {
   "cell_type": "code",
   "execution_count": 24,
   "id": "7f62eb80",
   "metadata": {},
   "outputs": [],
   "source": [
    "from sklearn.metrics import r2_score"
   ]
  },
  {
   "cell_type": "code",
   "execution_count": 25,
   "id": "f414399b",
   "metadata": {},
   "outputs": [
    {
     "data": {
      "text/plain": [
       "0.876622936075929"
      ]
     },
     "execution_count": 25,
     "metadata": {},
     "output_type": "execute_result"
    }
   ],
   "source": [
    "LR.score(X_test2, y_test2)"
   ]
  },
  {
   "cell_type": "code",
   "execution_count": 26,
   "id": "633c6c5c",
   "metadata": {},
   "outputs": [
    {
     "data": {
      "text/plain": [
       "0.876622936075929"
      ]
     },
     "execution_count": 26,
     "metadata": {},
     "output_type": "execute_result"
    }
   ],
   "source": [
    "r2_score(y_test2, y_pred2)"
   ]
  },
  {
   "cell_type": "code",
   "execution_count": 27,
   "id": "810a3ed2",
   "metadata": {},
   "outputs": [],
   "source": [
    "### Ridge Regression"
   ]
  },
  {
   "cell_type": "code",
   "execution_count": 28,
   "id": "a8ef4812",
   "metadata": {},
   "outputs": [],
   "source": [
    "from sklearn.linear_model import Ridge"
   ]
  },
  {
   "cell_type": "code",
   "execution_count": 29,
   "id": "3332e4bd",
   "metadata": {},
   "outputs": [],
   "source": [
    "R = Ridge(alpha=0.0001, normalize=True)"
   ]
  },
  {
   "cell_type": "code",
   "execution_count": 30,
   "id": "69fedb6e",
   "metadata": {},
   "outputs": [
    {
     "data": {
      "text/html": [
       "<style>#sk-container-id-2 {color: black;background-color: white;}#sk-container-id-2 pre{padding: 0;}#sk-container-id-2 div.sk-toggleable {background-color: white;}#sk-container-id-2 label.sk-toggleable__label {cursor: pointer;display: block;width: 100%;margin-bottom: 0;padding: 0.3em;box-sizing: border-box;text-align: center;}#sk-container-id-2 label.sk-toggleable__label-arrow:before {content: \"▸\";float: left;margin-right: 0.25em;color: #696969;}#sk-container-id-2 label.sk-toggleable__label-arrow:hover:before {color: black;}#sk-container-id-2 div.sk-estimator:hover label.sk-toggleable__label-arrow:before {color: black;}#sk-container-id-2 div.sk-toggleable__content {max-height: 0;max-width: 0;overflow: hidden;text-align: left;background-color: #f0f8ff;}#sk-container-id-2 div.sk-toggleable__content pre {margin: 0.2em;color: black;border-radius: 0.25em;background-color: #f0f8ff;}#sk-container-id-2 input.sk-toggleable__control:checked~div.sk-toggleable__content {max-height: 200px;max-width: 100%;overflow: auto;}#sk-container-id-2 input.sk-toggleable__control:checked~label.sk-toggleable__label-arrow:before {content: \"▾\";}#sk-container-id-2 div.sk-estimator input.sk-toggleable__control:checked~label.sk-toggleable__label {background-color: #d4ebff;}#sk-container-id-2 div.sk-label input.sk-toggleable__control:checked~label.sk-toggleable__label {background-color: #d4ebff;}#sk-container-id-2 input.sk-hidden--visually {border: 0;clip: rect(1px 1px 1px 1px);clip: rect(1px, 1px, 1px, 1px);height: 1px;margin: -1px;overflow: hidden;padding: 0;position: absolute;width: 1px;}#sk-container-id-2 div.sk-estimator {font-family: monospace;background-color: #f0f8ff;border: 1px dotted black;border-radius: 0.25em;box-sizing: border-box;margin-bottom: 0.5em;}#sk-container-id-2 div.sk-estimator:hover {background-color: #d4ebff;}#sk-container-id-2 div.sk-parallel-item::after {content: \"\";width: 100%;border-bottom: 1px solid gray;flex-grow: 1;}#sk-container-id-2 div.sk-label:hover label.sk-toggleable__label {background-color: #d4ebff;}#sk-container-id-2 div.sk-serial::before {content: \"\";position: absolute;border-left: 1px solid gray;box-sizing: border-box;top: 0;bottom: 0;left: 50%;z-index: 0;}#sk-container-id-2 div.sk-serial {display: flex;flex-direction: column;align-items: center;background-color: white;padding-right: 0.2em;padding-left: 0.2em;position: relative;}#sk-container-id-2 div.sk-item {position: relative;z-index: 1;}#sk-container-id-2 div.sk-parallel {display: flex;align-items: stretch;justify-content: center;background-color: white;position: relative;}#sk-container-id-2 div.sk-item::before, #sk-container-id-2 div.sk-parallel-item::before {content: \"\";position: absolute;border-left: 1px solid gray;box-sizing: border-box;top: 0;bottom: 0;left: 50%;z-index: -1;}#sk-container-id-2 div.sk-parallel-item {display: flex;flex-direction: column;z-index: 1;position: relative;background-color: white;}#sk-container-id-2 div.sk-parallel-item:first-child::after {align-self: flex-end;width: 50%;}#sk-container-id-2 div.sk-parallel-item:last-child::after {align-self: flex-start;width: 50%;}#sk-container-id-2 div.sk-parallel-item:only-child::after {width: 0;}#sk-container-id-2 div.sk-dashed-wrapped {border: 1px dashed gray;margin: 0 0.4em 0.5em 0.4em;box-sizing: border-box;padding-bottom: 0.4em;background-color: white;}#sk-container-id-2 div.sk-label label {font-family: monospace;font-weight: bold;display: inline-block;line-height: 1.2em;}#sk-container-id-2 div.sk-label-container {text-align: center;}#sk-container-id-2 div.sk-container {/* jupyter's `normalize.less` sets `[hidden] { display: none; }` but bootstrap.min.css set `[hidden] { display: none !important; }` so we also need the `!important` here to be able to override the default hidden behavior on the sphinx rendered scikit-learn.org. See: https://github.com/scikit-learn/scikit-learn/issues/21755 */display: inline-block !important;position: relative;}#sk-container-id-2 div.sk-text-repr-fallback {display: none;}</style><div id=\"sk-container-id-2\" class=\"sk-top-container\"><div class=\"sk-text-repr-fallback\"><pre>Ridge(alpha=0.0001, normalize=True)</pre><b>In a Jupyter environment, please rerun this cell to show the HTML representation or trust the notebook. <br />On GitHub, the HTML representation is unable to render, please try loading this page with nbviewer.org.</b></div><div class=\"sk-container\" hidden><div class=\"sk-item\"><div class=\"sk-estimator sk-toggleable\"><input class=\"sk-toggleable__control sk-hidden--visually\" id=\"sk-estimator-id-2\" type=\"checkbox\" checked><label for=\"sk-estimator-id-2\" class=\"sk-toggleable__label sk-toggleable__label-arrow\">Ridge</label><div class=\"sk-toggleable__content\"><pre>Ridge(alpha=0.0001, normalize=True)</pre></div></div></div></div></div>"
      ],
      "text/plain": [
       "Ridge(alpha=0.0001, normalize=True)"
      ]
     },
     "execution_count": 30,
     "metadata": {},
     "output_type": "execute_result"
    }
   ],
   "source": [
    "R.fit(X_train2, y_train2)"
   ]
  },
  {
   "cell_type": "code",
   "execution_count": 31,
   "id": "ea1d17a0",
   "metadata": {},
   "outputs": [
    {
     "data": {
      "text/plain": [
       "0.8766225405571938"
      ]
     },
     "execution_count": 31,
     "metadata": {},
     "output_type": "execute_result"
    }
   ],
   "source": [
    "R.score(X_test2, y_test2)"
   ]
  },
  {
   "cell_type": "code",
   "execution_count": 32,
   "id": "5e032bc9",
   "metadata": {},
   "outputs": [],
   "source": [
    "y_predict2 = R.predict(X_test2)"
   ]
  },
  {
   "cell_type": "code",
   "execution_count": 33,
   "id": "7985928f",
   "metadata": {},
   "outputs": [
    {
     "data": {
      "text/plain": [
       "0.8766225405571938"
      ]
     },
     "execution_count": 33,
     "metadata": {},
     "output_type": "execute_result"
    }
   ],
   "source": [
    "r2_score(y_test2, y_predict2)"
   ]
  },
  {
   "cell_type": "markdown",
   "id": "3022bf06",
   "metadata": {},
   "source": [
    "### For regession Model"
   ]
  },
  {
   "cell_type": "markdown",
   "id": "5de0f6cd",
   "metadata": {},
   "source": [
    "### Piplining\n",
    "A machine learning pipeline can be created by putting together a sequence of steps involved in training a machine learning model. It can be used to automate a machine learning workflow. The pipeline can involve pre- processing, feature selection, classification/regression, and post-processing."
   ]
  },
  {
   "cell_type": "code",
   "execution_count": 34,
   "id": "a32d7b75",
   "metadata": {},
   "outputs": [],
   "source": [
    "from sklearn.feature_selection import mutual_info_regression, SelectKBest, chi2\n",
    "from sklearn.ensemble import ExtraTreesClassifier, RandomForestRegressor, RandomForestClassifier, StackingClassifier, GradientBoostingClassifier\n",
    "from sklearn.preprocessing import StandardScaler, scale, MinMaxScaler\n",
    "from sklearn.decomposition import PCA\n",
    "from sklearn.metrics import accuracy_score, classification_report, confusion_matrix, mean_absolute_percentage_error, mean_squared_error, roc_auc_score, log_loss, precision_recall_fscore_support, mean_absolute_error, plot_roc_curve\n",
    "from sklearn.model_selection import train_test_split, cross_val_score, cross_validate, GridSearchCV, RandomizedSearchCV\n",
    "from sklearn.linear_model import LogisticRegression\n",
    "from sklearn.pipeline import Pipeline\n",
    "\n",
    "from sklearn.discriminant_analysis import QuadraticDiscriminantAnalysis\n",
    "from sklearn.discriminant_analysis import LinearDiscriminantAnalysis\n",
    "\n",
    "from pprint import pprint\n",
    "\n",
    "from xgboost import XGBRegressor, XGBClassifier"
   ]
  },
  {
   "cell_type": "markdown",
   "id": "44577427",
   "metadata": {},
   "source": [
    "## Data Preprocessing"
   ]
  },
  {
   "cell_type": "code",
   "execution_count": 35,
   "id": "a93371c6",
   "metadata": {},
   "outputs": [],
   "source": [
    "stdscaler = StandardScaler()\n",
    "scaler = MinMaxScaler()\n",
    "\n",
    "pca = PCA(n_components=2)"
   ]
  },
  {
   "cell_type": "code",
   "execution_count": 36,
   "id": "bf8806d5",
   "metadata": {},
   "outputs": [],
   "source": [
    "model_Linear = Pipeline([\n",
    "    ('stdscaler', stdscaler),\n",
    "    ('pca', PCA(n_components=30)),\n",
    "    ('Linear', LR)\n",
    "])"
   ]
  },
  {
   "cell_type": "code",
   "execution_count": 37,
   "id": "ccda2855",
   "metadata": {},
   "outputs": [
    {
     "name": "stdout",
     "output_type": "stream",
     "text": [
      "Model Evaluation:\n",
      "mean_squared_error :  0.12249001665109392\n",
      "mean_squared_percentage_error :  1.0454780720089987\n",
      "R2_score :  0.876622936075929\n"
     ]
    }
   ],
   "source": [
    "model_Linear.fit(X_train2, y_train2)\n",
    "y_pred = model_Linear.predict(X_test2)\n",
    "from sklearn.metrics import mean_squared_error, r2_score, mean_absolute_percentage_error\n",
    "\n",
    "# model evaluation\n",
    "print('Model Evaluation:')\n",
    "print('mean_squared_error : ', mean_squared_error(y_test2, y_pred))\n",
    "print('mean_squared_percentage_error : ', mean_absolute_percentage_error(y_test2, y_pred, multioutput=[0.3, 0.5, 0.7]))\n",
    "print('R2_score : ', r2_score(y_test2, y_pred))"
   ]
  },
  {
   "cell_type": "code",
   "execution_count": 38,
   "id": "2498a9df",
   "metadata": {},
   "outputs": [],
   "source": [
    "import pickle\n",
    "pickle.dump(model_Linear, open('Linear.pkl', 'wb'))"
   ]
  },
  {
   "cell_type": "markdown",
   "id": "aaccf788",
   "metadata": {},
   "source": [
    "### Classification pipelining"
   ]
  },
  {
   "cell_type": "markdown",
   "id": "934cbabd",
   "metadata": {},
   "source": [
    "#### Ensemble learning"
   ]
  },
  {
   "cell_type": "code",
   "execution_count": 39,
   "id": "123ce0ec",
   "metadata": {},
   "outputs": [],
   "source": [
    "qda = QuadraticDiscriminantAnalysis()\n",
    "\n",
    "rf = RandomForestClassifier(random_state=0)"
   ]
  },
  {
   "cell_type": "code",
   "execution_count": 40,
   "id": "0ce911bc",
   "metadata": {},
   "outputs": [],
   "source": [
    "estimators = [('QDA', qda), ('RandomForest', rf)]\n",
    "final_estimator = GradientBoostingClassifier()\n",
    "clf = StackingClassifier(estimators=estimators, final_estimator=final_estimator)"
   ]
  },
  {
   "cell_type": "code",
   "execution_count": 41,
   "id": "4be473d2",
   "metadata": {},
   "outputs": [],
   "source": [
    "model_ensemble = Pipeline([\n",
    "    ('stdscaler', stdscaler),\n",
    "    ('classifier', clf)\n",
    "    \n",
    "])"
   ]
  },
  {
   "cell_type": "code",
   "execution_count": 42,
   "id": "7d9455ec",
   "metadata": {},
   "outputs": [
    {
     "name": "stdout",
     "output_type": "stream",
     "text": [
      "test accuracy =  87.72 %\n"
     ]
    }
   ],
   "source": [
    "model_ensemble.fit(X_train1, y_train1)\n",
    "pred = model_ensemble.predict(X_test1)\n",
    "print('test accuracy = ', round(accuracy_score(y_test1, pred)*100, 2), '%')"
   ]
  },
  {
   "cell_type": "code",
   "execution_count": 43,
   "id": "9a302595",
   "metadata": {},
   "outputs": [
    {
     "name": "stdout",
     "output_type": "stream",
     "text": [
      "              precision    recall  f1-score   support\n",
      "\n",
      "           0      0.897     0.879     0.888      8561\n",
      "           1      0.854     0.875     0.864      6918\n",
      "\n",
      "    accuracy                          0.877     15479\n",
      "   macro avg      0.875     0.877     0.876     15479\n",
      "weighted avg      0.878     0.877     0.877     15479\n",
      "\n"
     ]
    }
   ],
   "source": [
    "print(classification_report(y_test1, pred, digits=3))"
   ]
  },
  {
   "cell_type": "markdown",
   "id": "74c5ba96",
   "metadata": {},
   "source": [
    "### QDA"
   ]
  },
  {
   "cell_type": "code",
   "execution_count": 44,
   "id": "1922f81c",
   "metadata": {},
   "outputs": [],
   "source": [
    "model_qda = Pipeline([\n",
    "    ('classifier', qda)\n",
    "])"
   ]
  },
  {
   "cell_type": "code",
   "execution_count": 45,
   "id": "85b66b7e",
   "metadata": {},
   "outputs": [
    {
     "name": "stdout",
     "output_type": "stream",
     "text": [
      "test accuracy =  48.68 %\n"
     ]
    }
   ],
   "source": [
    "model_qda.fit(X_train1, y_train1)\n",
    "pred = model_qda.predict(X_test1)\n",
    "print('test accuracy = ', round(accuracy_score(y_test1, pred)*100, 2), '%')"
   ]
  },
  {
   "cell_type": "code",
   "execution_count": 46,
   "id": "2732c35f",
   "metadata": {
    "scrolled": true
   },
   "outputs": [
    {
     "name": "stdout",
     "output_type": "stream",
     "text": [
      "              precision    recall  f1-score   support\n",
      "\n",
      "           0      0.721     0.118     0.202      8561\n",
      "           1      0.464     0.943     0.622      6918\n",
      "\n",
      "    accuracy                          0.487     15479\n",
      "   macro avg      0.592     0.531     0.412     15479\n",
      "weighted avg      0.606     0.487     0.390     15479\n",
      "\n"
     ]
    }
   ],
   "source": [
    "print(classification_report(y_test1, pred, digits=3))"
   ]
  },
  {
   "cell_type": "markdown",
   "id": "0388df94",
   "metadata": {},
   "source": [
    "### Random Forest"
   ]
  },
  {
   "cell_type": "code",
   "execution_count": 47,
   "id": "1c4be195",
   "metadata": {},
   "outputs": [],
   "source": [
    "model_rf = Pipeline([\n",
    "    ('classifier', rf)\n",
    "])"
   ]
  },
  {
   "cell_type": "code",
   "execution_count": 48,
   "id": "a6486254",
   "metadata": {},
   "outputs": [
    {
     "name": "stdout",
     "output_type": "stream",
     "text": [
      "test accuracy =  87.66 %\n"
     ]
    }
   ],
   "source": [
    "model_rf.fit(X_train1, y_train1)\n",
    "pred = model_rf.predict(X_test1)\n",
    "print('test accuracy = ', round(accuracy_score(y_test1, pred)*100, 2), '%')"
   ]
  },
  {
   "cell_type": "code",
   "execution_count": 49,
   "id": "1e67386b",
   "metadata": {},
   "outputs": [
    {
     "name": "stdout",
     "output_type": "stream",
     "text": [
      "              precision    recall  f1-score   support\n",
      "\n",
      "           0      0.885     0.893     0.889      8561\n",
      "           1      0.866     0.857     0.861      6918\n",
      "\n",
      "    accuracy                          0.877     15479\n",
      "   macro avg      0.875     0.875     0.875     15479\n",
      "weighted avg      0.877     0.877     0.877     15479\n",
      "\n"
     ]
    }
   ],
   "source": [
    "print(classification_report(y_test1, pred, digits=3))"
   ]
  },
  {
   "cell_type": "code",
   "execution_count": 50,
   "id": "a3117af4",
   "metadata": {},
   "outputs": [
    {
     "name": "stdout",
     "output_type": "stream",
     "text": [
      "Random forets  classifier\n",
      "\n",
      "Accuracy score:\n",
      " 87.66 %\n",
      "****************************************\n",
      "\n",
      "Confusion Matrix:\n",
      " [[7642  919]\n",
      " [ 991 5927]]\n",
      "****************************************\n"
     ]
    }
   ],
   "source": [
    "print(\"Random forets  classifier\")\n",
    "\n",
    "print(\"\\nAccuracy score:\\n\", round(accuracy_score(y_test1, pred)*100,2), '%')\n",
    "print('*'*40)\n",
    "print(\"\\nConfusion Matrix:\\n\", confusion_matrix(y_test1,pred))\n",
    "print('*'*40)"
   ]
  },
  {
   "cell_type": "code",
   "execution_count": 52,
   "id": "e4be435c",
   "metadata": {},
   "outputs": [],
   "source": [
    "pickle.dump(model_ensemble, open('ensemble.pkl', 'wb'))\n",
    "#pickle.dump(model_qda, open('qda.pkl', 'wb'))\n",
    "#pickle.dump(model_rf, open('rf.pkl', 'wb'))"
   ]
  },
  {
   "cell_type": "code",
   "execution_count": null,
   "id": "1e73e6c4",
   "metadata": {},
   "outputs": [],
   "source": []
  }
 ],
 "metadata": {
  "kernelspec": {
   "display_name": "Python 3 (ipykernel)",
   "language": "python",
   "name": "python3"
  },
  "language_info": {
   "codemirror_mode": {
    "name": "ipython",
    "version": 3
   },
   "file_extension": ".py",
   "mimetype": "text/x-python",
   "name": "python",
   "nbconvert_exporter": "python",
   "pygments_lexer": "ipython3",
   "version": "3.9.12"
  },
  "varInspector": {
   "cols": {
    "lenName": 16,
    "lenType": 16,
    "lenVar": 40
   },
   "kernels_config": {
    "python": {
     "delete_cmd_postfix": "",
     "delete_cmd_prefix": "del ",
     "library": "var_list.py",
     "varRefreshCmd": "print(var_dic_list())"
    },
    "r": {
     "delete_cmd_postfix": ") ",
     "delete_cmd_prefix": "rm(",
     "library": "var_list.r",
     "varRefreshCmd": "cat(var_dic_list()) "
    }
   },
   "types_to_exclude": [
    "module",
    "function",
    "builtin_function_or_method",
    "instance",
    "_Feature"
   ],
   "window_display": false
  }
 },
 "nbformat": 4,
 "nbformat_minor": 5
}
