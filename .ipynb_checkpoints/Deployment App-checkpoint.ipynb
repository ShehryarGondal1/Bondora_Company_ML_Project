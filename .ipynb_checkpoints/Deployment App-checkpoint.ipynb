{
 "cells": [
  {
   "cell_type": "code",
   "execution_count": 4,
   "id": "fa540d69",
   "metadata": {},
   "outputs": [
    {
     "name": "stdout",
     "output_type": "stream",
     "text": [
      " * Serving Flask app \"__main__\" (lazy loading)\n",
      " * Environment: production\n",
      "\u001b[31m   WARNING: This is a development server. Do not use it in a production deployment.\u001b[0m\n",
      "\u001b[2m   Use a production WSGI server instead.\u001b[0m\n",
      " * Debug mode: off\n"
     ]
    },
    {
     "name": "stderr",
     "output_type": "stream",
     "text": [
      " * Running on http://127.0.0.1:5000/ (Press CTRL+C to quit)\n",
      "127.0.0.1 - - [28/Dec/2022 22:59:09] \"GET / HTTP/1.1\" 200 -\n"
     ]
    },
    {
     "name": "stdout",
     "output_type": "stream",
     "text": [
      "[4500, 7, 1, 5600, 4500, 3400000, 1, 8, 56, 12, 5000, 2, 0, 32, 3, 8, 1, 1, 1, 90000, 65000, 4, 1, 0, 5, 5, 6, 1, 6, 8000000]\n"
     ]
    },
    {
     "name": "stderr",
     "output_type": "stream",
     "text": [
      "127.0.0.1 - - [28/Dec/2022 23:00:26] \"POST /predict HTTP/1.1\" 200 -\n"
     ]
    },
    {
     "name": "stdout",
     "output_type": "stream",
     "text": [
      "1608577\n",
      "322351\n",
      "-30598.90646\n",
      "Should not be defaulted\n"
     ]
    }
   ],
   "source": [
    "import numpy as np\n",
    "from flask import Flask, request, render_template\n",
    "import pickle\n",
    "\n",
    "app = Flask(__name__)\n",
    "#model = pickle.load(open('rf.pkl', 'rb'))\n",
    "\n",
    "@app.route('/')\n",
    "def home():\n",
    "    return render_template('index.html')\n",
    "\n",
    "def ValuePredictor(to_predict_list):\n",
    "    to_predict = np.array(to_predict_list).reshape(1,30)\n",
    "    loaded_model = pickle.load(open(\"ensemble.pkl\", \"rb\"))\n",
    "    result = loaded_model.predict(to_predict)\n",
    "    return result[0]\n",
    "\n",
    "def ValuePredictor2(to_predict_list):\n",
    "    to_predict = np.array(to_predict_list).reshape(1,30)\n",
    "    loaded_model = pickle.load(open(\"linear.pkl\", \"rb\"))\n",
    "    result = loaded_model.predict(to_predict)\n",
    "    return result[0]\n",
    "@app.route('/predict', methods = ['POST'])\n",
    "def result():\n",
    "    if request.method == 'POST':\n",
    "        to_predict_list = request.form.to_dict()\n",
    "        \n",
    "        to_predict_list = list(to_predict_list.values())\n",
    "        to_predict_list = list(map(int, to_predict_list))\n",
    "        print(to_predict_list)\n",
    "        result1 = ValuePredictor(to_predict_list)  \n",
    "        result = ValuePredictor2(to_predict_list)\n",
    "        features = [np.array(result)]\n",
    "        var1 = int(features[0][0])\n",
    "        var2 = int(features[0][1])\n",
    "        var3 = (round(features[0][2], 5))\n",
    "        \n",
    "        print(var1)\n",
    "        print(var2)\n",
    "        print(var3)\n",
    "        if int(result1)== 0:\n",
    "            prediction ='Should not be defaulted'\n",
    "            print(prediction)\n",
    "        else:\n",
    "            prediction =' Should be Defaulted'  \n",
    "            print(prediction)\n",
    "            \n",
    "    return render_template(\"index.html\",prediction_text='The loan {}'.format(prediction),\n",
    "                           prediction_EMI='Your EMI Should have been (Preferred Monthly Payment) : {} $'.format(var1),\n",
    "                           prediction_ROI='Your ROI Should have been (Preferred return on Investment) : {} %'.format(var2),\n",
    "                           prediction_ELA='Your Repayment Year to pay the loan for : {} Years (5 months)'.format(var3))\n",
    "    print(result)\n",
    "\n",
    "\n",
    "if __name__ == \"__main__\":\n",
    "    app.run()"
   ]
  },
  {
   "cell_type": "code",
   "execution_count": null,
   "id": "57657745",
   "metadata": {},
   "outputs": [],
   "source": []
  }
 ],
 "metadata": {
  "kernelspec": {
   "display_name": "Python 3 (ipykernel)",
   "language": "python",
   "name": "python3"
  },
  "language_info": {
   "codemirror_mode": {
    "name": "ipython",
    "version": 3
   },
   "file_extension": ".py",
   "mimetype": "text/x-python",
   "name": "python",
   "nbconvert_exporter": "python",
   "pygments_lexer": "ipython3",
   "version": "3.9.12"
  },
  "varInspector": {
   "cols": {
    "lenName": 16,
    "lenType": 16,
    "lenVar": 40
   },
   "kernels_config": {
    "python": {
     "delete_cmd_postfix": "",
     "delete_cmd_prefix": "del ",
     "library": "var_list.py",
     "varRefreshCmd": "print(var_dic_list())"
    },
    "r": {
     "delete_cmd_postfix": ") ",
     "delete_cmd_prefix": "rm(",
     "library": "var_list.r",
     "varRefreshCmd": "cat(var_dic_list()) "
    }
   },
   "types_to_exclude": [
    "module",
    "function",
    "builtin_function_or_method",
    "instance",
    "_Feature"
   ],
   "window_display": false
  },
  "vscode": {
   "interpreter": {
    "hash": "88279d2366fe020547cde40dd65aa0e3aa662a6ec1f3ca12d88834876c85e1a6"
   }
  }
 },
 "nbformat": 4,
 "nbformat_minor": 5
}
